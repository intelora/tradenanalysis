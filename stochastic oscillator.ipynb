{
 "cells": [
  {
   "cell_type": "code",
   "execution_count": 2,
   "id": "2243c8b3",
   "metadata": {},
   "outputs": [],
   "source": [
    "import pandas as pd\n",
    "import numpy as np\n",
    "import requests\n",
    "from termcolor import colored as cl\n",
    "from math import floor\n",
    "import matplotlib.pyplot as plt\n",
    "\n"
   ]
  },
  {
   "cell_type": "code",
   "execution_count": null,
   "id": "44586e75",
   "metadata": {},
   "outputs": [],
   "source": [
    "\n",
    "plt.rcParams['figure.figsize'] = (20, 10)\n",
    "plt.style.use('fivethirtyeight')\n"
   ]
  },
  {
   "cell_type": "code",
   "execution_count": null,
   "id": "da37aadd",
   "metadata": {},
   "outputs": [],
   "source": [
    "\n",
    "def get_historical_data(symbol, start_date = None):\n",
    "    api_key = open(r'api_key.txt')\n",
    "    api_url = f'https://www.alphavantage.co/query?function=TIME_SERIES_DAILY_ADJUSTED&symbol={symbol}&apikey={api_key}&outputsize=full'\n",
    "    raw_df = requests.get(api_url).json()\n",
    "    df = pd.DataFrame(raw_df[f'Time Series (Daily)']).T\n",
    "    df = df.rename(columns = {'1. open': 'open', '2. high': 'high', '3. low': 'low', '4. close': 'Close', '5. adjusted close': 'adj close', '6. volume': 'volume'})\n",
    "    for i in df.columns:\n",
    "        df[i] = df[i].astype(float)\n",
    "    df.index = pd.to_datetime(df.index)\n",
    "    df = df.iloc[::-1].drop(['7. dividend amount', '8. split coefficient'], axis = 1)\n",
    "    if start_date:\n",
    "        df = df[df.index >= start_date]\n",
    "    return df\n"
   ]
  },
  {
   "cell_type": "code",
   "execution_count": null,
   "id": "41069f68",
   "metadata": {},
   "outputs": [],
   "source": [
    "\n",
    "nflx = get_historical_data('TSLA', '2020-01-01')\n",
    "nflx.head()\n"
   ]
  },
  {
   "cell_type": "code",
   "execution_count": null,
   "id": "0dba8b48",
   "metadata": {},
   "outputs": [],
   "source": [
    "\n",
    "def get_stoch(symbol, k_period, d_period, start_date):\n",
    "    api_key = open(r'api_key.txt')\n",
    "    url = f'https://www.alphavantage.co/query?function=STOCH&symbol={symbol}&interval=daily&fastkperiod={k_period}&slowdperiod={d_period}&apikey={api_key}'\n",
    "    raw = requests.get(url).json()\n",
    "    df = pd.DataFrame(raw['Technical Analysis: STOCH']).T.iloc[::-1]\n",
    "    df = df[df.index >= start_date]\n",
    "    df.index = pd.to_datetime(df.index)\n",
    "    df = df.astype(float)\n",
    "    return df['SlowK'], df['SlowD']\n"
   ]
  },
  {
   "cell_type": "code",
   "execution_count": null,
   "id": "20890a56",
   "metadata": {},
   "outputs": [],
   "source": [
    "\n",
    "nflx['%k'], nflx['%d'] = get_stoch('NFLX', 14, 3, '2020-01-01')\n",
    "nflx = nflx.dropna()\n",
    "nflx.head()\n"
   ]
  },
  {
   "cell_type": "code",
   "execution_count": null,
   "id": "208b8c0a",
   "metadata": {},
   "outputs": [],
   "source": [
    "\n",
    "def plot_stoch(symbol, price, k, d):\n",
    "    ax1 = plt.subplot2grid((9, 1), (0,0), rowspan = 5, colspan = 1)\n",
    "    ax2 = plt.subplot2grid((9, 1), (6,0), rowspan = 3, colspan = 1)\n",
    "    ax1.plot(price)\n",
    "    ax1.set_title(f'{symbol} STOCK PRICE')\n",
    "    ax2.plot(k, color = 'deepskyblue', linewidth = 1.5, label = '%K')\n",
    "    ax2.plot(d, color = 'orange', linewidth = 1.5, label = '%D')\n",
    "    ax2.axhline(80, color = 'black', linewidth = 1, linestyle = '--')\n",
    "    ax2.axhline(20, color = 'black', linewidth = 1, linestyle = '--')\n",
    "    ax2.set_title(f'{symbol} STOCH')\n",
    "    ax2.legend()\n",
    "    plt.show()\n",
    "\n"
   ]
  },
  {
   "cell_type": "code",
   "execution_count": null,
   "id": "e6887d6d",
   "metadata": {},
   "outputs": [],
   "source": [
    "    \n",
    "plot_stoch('NFLX', nflx['Close'], nflx['%k'], nflx['%d'])\n"
   ]
  },
  {
   "cell_type": "code",
   "execution_count": null,
   "id": "c32082e6",
   "metadata": {},
   "outputs": [],
   "source": [
    "\n",
    "def implement_stoch_strategy(prices, k, d):    \n",
    "    buy_price = []\n",
    "    sell_price = []\n",
    "    stoch_signal = []\n",
    "    signal = 0\n",
    "\n",
    "    for i in range(len(prices)):\n",
    "        if k[i] < 20 and d[i] < 20 and k[i] < d[i]:\n",
    "            if signal != 1:\n",
    "                buy_price.append(prices[i])\n",
    "                sell_price.append(np.nan)\n",
    "                signal = 1\n",
    "                stoch_signal.append(signal)\n",
    "            else:\n",
    "                buy_price.append(np.nan)\n",
    "                sell_price.append(np.nan)\n",
    "                stoch_signal.append(0)\n",
    "        elif k[i] > 80 and d[i] > 80 and k[i] > d[i]:\n",
    "            if signal != -1:\n",
    "                buy_price.append(np.nan)\n",
    "                sell_price.append(prices[i])\n",
    "                signal = -1\n",
    "                stoch_signal.append(signal)\n",
    "            else:\n",
    "                buy_price.append(np.nan)\n",
    "                sell_price.append(np.nan)\n",
    "                stoch_signal.append(0)\n",
    "        else:\n",
    "            buy_price.append(np.nan)\n",
    "            sell_price.append(np.nan)\n",
    "            stoch_signal.append(0)\n",
    "            \n",
    "    return buy_price, sell_price, stoch_signal"
   ]
  },
  {
   "cell_type": "code",
   "execution_count": null,
   "id": "fbcc4f18",
   "metadata": {},
   "outputs": [],
   "source": [
    "            \n",
    "buy_price, sell_price, stoch_signal = implement_stoch_strategy(nflx['Close'], nflx['%k'], nflx['%d'])\n"
   ]
  },
  {
   "cell_type": "code",
   "execution_count": null,
   "id": "dbdcd96c",
   "metadata": {},
   "outputs": [],
   "source": [
    "\n",
    "position = []\n",
    "for i in range(len(stoch_signal)):\n",
    "    if stoch_signal[i] > 1:\n",
    "        position.append(0)\n",
    "    else:\n",
    "        position.append(1)\n",
    "        \n",
    "for i in range(len(nflx['Close'])):\n",
    "    if stoch_signal[i] == 1:\n",
    "        position[i] = 1\n",
    "    elif stoch_signal[i] == -1:\n",
    "        position[i] = 0\n",
    "    else:\n",
    "        position[i] = position[i-1]\n"
   ]
  },
  {
   "cell_type": "code",
   "execution_count": null,
   "id": "8071f002",
   "metadata": {},
   "outputs": [],
   "source": [
    "\n",
    "k = nflx['%k']\n",
    "d = nflx['%d']\n",
    "close_price = nflx['Close']\n",
    "stoch_signal = pd.DataFrame(stoch_signal).rename(columns = {0:'stoch_signal'}).set_index(nflx.index)\n",
    "position = pd.DataFrame(position).rename(columns = {0:'stoch_position'}).set_index(nflx.index)\n",
    "\n",
    "frames = [close_price, k, d, stoch_signal, position]\n",
    "strategy = pd.concat(frames, join = 'inner', axis = 1)\n",
    "\n",
    "strategy.tail()\n",
    "\n",
    "nflx_ret = pd.DataFrame(np.diff(nflx['Close'])).rename(columns = {0:'returns'})\n",
    "stoch_strategy_ret = []\n",
    "\n",
    "for i in range(len(nflx_ret)):\n",
    "    try:\n",
    "        returns = nflx_ret['returns'][i]*strategy['stoch_position'][i]\n",
    "        stoch_strategy_ret.append(returns)\n",
    "    except:\n",
    "        pass\n",
    "\n",
    "\n",
    "    \n"
   ]
  },
  {
   "cell_type": "code",
   "execution_count": null,
   "id": "0e981fdb",
   "metadata": {},
   "outputs": [],
   "source": [
    "stoch_strategy_ret_df = pd.DataFrame(stoch_strategy_ret).rename(columns = {0:'stoch_returns'})\n",
    "\n",
    "investment_value = 100000\n",
    "number_of_stocks = floor(investment_value/nflx['Close'][-1])\n",
    "stoch_investment_ret = []\n",
    "\n",
    "for i in range(len(stoch_strategy_ret_df['stoch_returns'])):\n",
    "    returns = number_of_stocks*stoch_strategy_ret_df['stoch_returns'][i]\n",
    "    stoch_investment_ret.append(returns)\n",
    "\n",
    "stoch_investment_ret_df = pd.DataFrame(stoch_investment_ret).rename(columns = {0:'investment_returns'})\n",
    "total_investment_ret = round(sum(stoch_investment_ret_df['investment_returns']), 2)\n",
    "profit_percentage = floor((total_investment_ret/investment_value)*100)\n",
    "print(cl('Profit gained from the STOCH strategy by investing $100k in NFLX : {}'.format(total_investment_ret), attrs = ['bold']))\n",
    "print(cl('Profit percentage of the STOCH strategy : {}%'.format(profit_percentage), attrs = ['bold']))\n",
    "\n",
    "def get_benchmark(start_date, investment_value):\n",
    "    spy = get_historical_data('SPY', start_date)['Close']\n",
    "    benchmark = pd.DataFrame(np.diff(spy)).rename(columns = {0:'benchmark_returns'})\n",
    "    \n",
    "    investment_value = investment_value\n",
    "    number_of_stocks = floor(investment_value/spy[-1])\n",
    "    benchmark_investment_ret = []\n",
    "    \n",
    "    for i in range(len(benchmark['benchmark_returns'])):\n",
    "        returns = number_of_stocks*benchmark['benchmark_returns'][i]\n",
    "        benchmark_investment_ret.append(returns)\n",
    "\n",
    "    benchmark_investment_ret_df = pd.DataFrame(benchmark_investment_ret).rename(columns = {0:'investment_returns'})\n",
    "    return benchmark_investment_ret_df\n",
    "\n",
    "benchmark = get_benchmark('2020-01-01', 100000)\n",
    "investment_value = 100000\n",
    "total_benchmark_investment_ret = round(sum(benchmark['investment_returns']), 2)\n",
    "benchmark_profit_percentage = floor((total_benchmark_investment_ret/investment_value)*100)\n",
    "print(cl('Benchmark profit by investing $100k : {}'.format(total_benchmark_investment_ret), attrs = ['bold']))\n",
    "print(cl('Benchmark Profit percentage : {}%'.format(benchmark_profit_percentage), attrs = ['bold']))\n",
    "print(cl('STOCH Strategy profit is {}% higher than the Benchmark Profit'.format(profit_percentage - benchmark_profit_percentage), attrs = ['bold']))\n",
    "\n",
    "stoch_strategy_ret_df"
   ]
  }
 ],
 "metadata": {
  "kernelspec": {
   "display_name": "Python 3 (ipykernel)",
   "language": "python",
   "name": "python3"
  },
  "language_info": {
   "codemirror_mode": {
    "name": "ipython",
    "version": 3
   },
   "file_extension": ".py",
   "mimetype": "text/x-python",
   "name": "python",
   "nbconvert_exporter": "python",
   "pygments_lexer": "ipython3",
   "version": "3.9.7"
  }
 },
 "nbformat": 4,
 "nbformat_minor": 5
}
