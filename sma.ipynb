{
 "cells": [
  {
   "cell_type": "code",
   "execution_count": null,
   "metadata": {},
   "outputs": [],
   "source": [
    "import pandas_ta as ta\n",
    "import numpy as np\n",
    "import pandas as pd\n",
    "\n",
    "import db_connect\n",
    "#SMA BUY SELL\n",
    "#Function for buy and sell signal\n",
    "def sma_buy_sell(data,values):\n",
    "    signal1,signal2 = values\n",
    "    sma_value_1 = \"sma_{}\".format(signal1)\n",
    "    sma_value_2 = \"sma_{}\".format(signal2)\n",
    "    data[\"col1\"] = ta.sma(data['close'],signal1)\n",
    "    data[\"col2\"] = ta.sma(data['close'],signal2)\n",
    "    signalBuy = []\n",
    "    signalSell = []\n",
    "    position = False \n",
    "\n",
    "    for i in range(len(data)):\n",
    "        if data[sma_value_1][i] > data[sma_value_2][i]:\n",
    "            if position == False :\n",
    "                signalBuy.append(data['close'][i])\n",
    "                signalSell.append(np.nan)\n",
    "                position = True\n",
    "            else:\n",
    "                signalBuy.append(np.nan)\n",
    "                signalSell.append(np.nan)\n",
    "        elif data[sma_value_1][i] < data[sma_value_2][i]:\n",
    "            if position == True:\n",
    "                signalBuy.append(np.nan)\n",
    "                signalSell.append(data['close'][i])\n",
    "                position = False\n",
    "            else:\n",
    "                signalBuy.append(np.nan)\n",
    "                signalSell.append(np.nan)\n",
    "        else:\n",
    "            signalBuy.append(np.nan)\n",
    "            signalSell.append(np.nan)\n",
    "    \n",
    "    data['buy_signal_price'], data['sell_signal_price'] = pd.Series([signalBuy, signalSell])\n",
    "    data[\"strategy_name\"]=\"sma_{}_{}\".format(sma_value_1,sma_value_2)\n",
    "    data['indicator'] = \"sma\"\n",
    "    clean_data(data=data,values=values)\n",
    "\n",
    "def clean_data(data,values):\n",
    "    a = data.dropna(subset=[\"buy_signal_price\"])\n",
    "    b = data.dropna(subset=[\"sell_signal_price\"])\n",
    "    x = a.append(b)\n",
    "    new_data = x.drop(labels=[\"open\",\"close\",\"high\",\"low\",\"index\"],axis=1)\n",
    "    return new_data\n",
    "    \n",
    "\n",
    "def update_to_db(data):\n",
    "    try:\n",
    "        con = db_connect.db_connect()\n",
    "        data.to_sql(\"buy_sell_data\",con,if_exists=\"append\",index=False)\n",
    "    except Exception as e:\n",
    "        print(e)"
   ]
  }
 ],
 "metadata": {
  "interpreter": {
   "hash": "b3ba2566441a7c06988d0923437866b63cedc61552a5af99d1f4fb67d367b25f"
  },
  "kernelspec": {
   "display_name": "Python 3.9.7 64-bit ('base': conda)",
   "language": "python",
   "name": "python3"
  },
  "language_info": {
   "codemirror_mode": {
    "name": "ipython",
    "version": 3
   },
   "file_extension": ".py",
   "mimetype": "text/x-python",
   "name": "python",
   "nbconvert_exporter": "python",
   "pygments_lexer": "ipython3",
   "version": "3.9.9"
  },
  "orig_nbformat": 4
 },
 "nbformat": 4,
 "nbformat_minor": 2
}
