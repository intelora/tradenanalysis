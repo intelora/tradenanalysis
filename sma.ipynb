{
 "cells": [
  {
   "cell_type": "code",
   "execution_count": null,
   "metadata": {},
   "outputs": [],
   "source": [
    "import pandas_ta as ta\n",
    "import numpy as np\n",
    "import pandas as pd\n",
    "\n",
    "import db_connect"
   ]
  },
  {
   "cell_type": "code",
   "execution_count": null,
   "metadata": {},
   "outputs": [],
   "source": [
    "#SMA BUY SELL\n",
    "#Function for buy and sell signal\n",
    "def sma_buy_sell(data,values):\n",
    "    signal1,signal2 = values\n",
    "    sma_value_1 = \"sma_{}\".format(signal1)\n",
    "    sma_value_2 = \"sma_{}\".format(signal2)\n",
    "    data[\"col1\"] = ta.sma(data['close'],signal1)\n",
    "    data[\"col2\"] = ta.sma(data['close'],signal2)\n",
    "    signalBuy = []\n",
    "    signalSell = []\n",
    "    position = False \n",
    "\n",
    "    for i in range(len(data)):\n",
    "        if data[sma_value_1][i] > data[sma_value_2][i]:\n",
    "            if position == False :\n",
    "                signalBuy.append(data['close'][i])\n",
    "                signalSell.append(np.nan)\n",
    "                position = True\n",
    "            else:\n",
    "                signalBuy.append(np.nan)\n",
    "                signalSell.append(np.nan)\n",
    "        elif data[sma_value_1][i] < data[sma_value_2][i]:\n",
    "            if position == True:\n",
    "                signalBuy.append(np.nan)\n",
    "                signalSell.append(data['close'][i])\n",
    "                position = False\n",
    "            else:\n",
    "                signalBuy.append(np.nan)\n",
    "                signalSell.append(np.nan)\n",
    "        else:\n",
    "            signalBuy.append(np.nan)\n",
    "            signalSell.append(np.nan)\n",
    "    \n",
    "    data['buy_signal_price'], data['sell_signal_price'] = pd.Series([signalBuy, signalSell])\n",
    "    data[\"strategy_name\"]=\"sma_{}_{}\".format(sma_value_1,sma_value_2)\n",
    "    data['indicator'] = \"sma\"\n",
    "    clean_data(data=data,values=values)\n"
   ]
  },
  {
   "cell_type": "code",
   "execution_count": 82,
   "metadata": {},
   "outputs": [],
   "source": [
    "def clean_data(data,values):\n",
    "    a = data.dropna(subset=[\"buy_signal_price\"])\n",
    "    b = data.dropna(subset=[\"sell_signal_price\"])\n",
    "    x = a.append(b)\n",
    "    new_data = x.drop(labels=[\"open\",\"close\",\"high\",\"low\",\"index\"],axis=1)\n",
    "    return new_data\n",
    "    \n"
   ]
  },
  {
   "cell_type": "code",
   "execution_count": null,
   "metadata": {},
   "outputs": [],
   "source": [
    "def update_to_db(data):\n",
    "    try:\n",
    "        con = db_connect.db_connect()\n",
    "        data.to_sql(\"buy_sell_data\",con,if_exists=\"append\",index=False)\n",
    "    except Exception as e:\n",
    "        print(e)"
   ]
  },
  {
   "cell_type": "code",
   "execution_count": 83,
   "metadata": {},
   "outputs": [
    {
     "name": "stdout",
     "output_type": "stream",
     "text": [
      "(pymysql.err.OperationalError) (2013, 'Lost connection to MySQL server during query')\n",
      "[SQL: select * from BANKNIFTY]\n",
      "(Background on this error at: https://sqlalche.me/e/14/e3q8) (\"(pymysql.err.OperationalError) (2013, 'Lost connection to MySQL server during query')\",)\n"
     ]
    },
    {
     "ename": "NameError",
     "evalue": "name 'sma_buy_sell' is not defined",
     "output_type": "error",
     "traceback": [
      "\u001b[1;31m---------------------------------------------------------------------------\u001b[0m",
      "\u001b[1;31mNameError\u001b[0m                                 Traceback (most recent call last)",
      "\u001b[1;32m~\\AppData\\Local\\Temp/ipykernel_12752/3844412825.py\u001b[0m in \u001b[0;36m<module>\u001b[1;34m\u001b[0m\n\u001b[0;32m      2\u001b[0m \u001b[0mvalues\u001b[0m \u001b[1;33m=\u001b[0m \u001b[1;33m[\u001b[0m\u001b[1;36m10\u001b[0m\u001b[1;33m,\u001b[0m\u001b[1;36m20\u001b[0m\u001b[1;33m]\u001b[0m\u001b[1;33m\u001b[0m\u001b[1;33m\u001b[0m\u001b[0m\n\u001b[0;32m      3\u001b[0m \u001b[1;33m\u001b[0m\u001b[0m\n\u001b[1;32m----> 4\u001b[1;33m \u001b[0mx\u001b[0m \u001b[1;33m=\u001b[0m \u001b[0msma_buy_sell\u001b[0m\u001b[1;33m(\u001b[0m\u001b[0mdata\u001b[0m\u001b[1;33m=\u001b[0m\u001b[0mdf\u001b[0m\u001b[1;33m,\u001b[0m\u001b[0mvalues\u001b[0m\u001b[1;33m=\u001b[0m\u001b[0mvalues\u001b[0m\u001b[1;33m)\u001b[0m\u001b[1;33m\u001b[0m\u001b[1;33m\u001b[0m\u001b[0m\n\u001b[0m",
      "\u001b[1;31mNameError\u001b[0m: name 'sma_buy_sell' is not defined"
     ]
    }
   ],
   "source": [
    "\n",
    "df = db_connect.get_data_as_dataframe(\"BANKNIFTY\")\n",
    "values = [10,20]\n",
    "\n",
    "x = sma_buy_sell(data=df,values=values)"
   ]
  },
  {
   "cell_type": "code",
   "execution_count": null,
   "metadata": {},
   "outputs": [],
   "source": [
    "x"
   ]
  }
 ],
 "metadata": {
  "interpreter": {
   "hash": "b3ba2566441a7c06988d0923437866b63cedc61552a5af99d1f4fb67d367b25f"
  },
  "kernelspec": {
   "display_name": "Python 3.9.7 64-bit ('base': conda)",
   "language": "python",
   "name": "python3"
  },
  "language_info": {
   "codemirror_mode": {
    "name": "ipython",
    "version": 3
   },
   "file_extension": ".py",
   "mimetype": "text/x-python",
   "name": "python",
   "nbconvert_exporter": "python",
   "pygments_lexer": "ipython3",
   "version": "3.9.9"
  },
  "orig_nbformat": 4
 },
 "nbformat": 4,
 "nbformat_minor": 2
}
